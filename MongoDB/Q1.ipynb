{
 "cells": [
  {
   "attachments": {},
   "cell_type": "markdown",
   "metadata": {},
   "source": [
    "## Q1 - Mid term"
   ]
  },
  {
   "attachments": {},
   "cell_type": "markdown",
   "metadata": {},
   "source": [
    "- load libraries into kernel"
   ]
  },
  {
   "cell_type": "code",
   "execution_count": 92,
   "metadata": {},
   "outputs": [],
   "source": [
    "import pymongo # pymongo is a python driver for MongoDB\n",
    "\n",
    "client = pymongo.MongoClient('mongodb://localhost:27017/') # connecting to the mongodb cluster using client which is present in local host\n",
    "db = client.ism6562 # connecting to the db ism6562"
   ]
  },
  {
   "attachments": {},
   "cell_type": "markdown",
   "metadata": {},
   "source": [
    "### Generating data for a employee table - DATA PREP\""
   ]
  },
  {
   "cell_type": "code",
   "execution_count": 93,
   "metadata": {},
   "outputs": [],
   "source": [
    "from random import randint, seed\n",
    "\n",
    "seed(1) # make the data reproducible (which will be important for later querrying)\n",
    "\n",
    "date = ['10-09-2017','10-10-2017','10-12-2017','10-11-2017','10-13-2017'] # date posted by the user \n",
    "\n",
    "file_type = ['image','text','video'] # types of files\n"
   ]
  },
  {
   "attachments": {},
   "cell_type": "markdown",
   "metadata": {},
   "source": [
    "- Creating an empty file test.txt and writing to the file some random words "
   ]
  },
  {
   "cell_type": "code",
   "execution_count": 94,
   "metadata": {},
   "outputs": [],
   "source": [
    "with open('test.txt', 'w') as f:\n",
    "    f.write(' Your main branch isnt protected.Protect this branch from force pushing or deletion, or require status checks before merging. Learn more.  No description, website, or topics provided. Activity Stars stars Watchers watching Forks forks ')"
   ]
  },
  {
   "attachments": {},
   "cell_type": "markdown",
   "metadata": {},
   "source": [
    "- Saving the file content as a variable which is going to be utilized further in developing the documents"
   ]
  },
  {
   "cell_type": "code",
   "execution_count": 95,
   "metadata": {},
   "outputs": [
    {
     "data": {
      "text/plain": [
       "' Your main branch isnt protected.Protect this branch from force pushing or deletion, or require status checks before merging. Learn more.  No description, website, or topics provided. Activity Stars stars Watchers watching Forks forks '"
      ]
     },
     "execution_count": 95,
     "metadata": {},
     "output_type": "execute_result"
    }
   ],
   "source": [
    "with open('test.txt', 'r') as f:\n",
    "    var = f.read()\n",
    "\n",
    "var"
   ]
  },
  {
   "attachments": {},
   "cell_type": "markdown",
   "metadata": {},
   "source": [
    "- creating a new collection called chat system where we have all the different documents of mongo db"
   ]
  },
  {
   "cell_type": "code",
   "execution_count": 96,
   "metadata": {},
   "outputs": [],
   "source": [
    "collection = db.chat_system"
   ]
  },
  {
   "attachments": {},
   "cell_type": "markdown",
   "metadata": {},
   "source": [
    "- data generation for the collection with fields user_id,date,file_type,file"
   ]
  },
  {
   "cell_type": "code",
   "execution_count": 97,
   "metadata": {},
   "outputs": [],
   "source": [
    "for x  in range(1, 21):\n",
    "    made_up_business = {\n",
    "        'user_id': randint(0,21), # randomly generating user id\n",
    "        'date': date[randint(0,(len(date)-1))], # selecting randomly from  a list of dates\n",
    "        'file_type':file_type[randint(0,(len(file_type)-1))], # randonly selecting file type\n",
    "        'file': var[randint(0,15):randint(0,len(var)-1)] # using variable var we are selecting only few characters from the \n",
    "        # the variable which is done by using random integer function from the string\n",
    "    }\n",
    "    result = collection.insert_one(made_up_business)   # for each iteration inserting the the dict in to the collection as as document"
   ]
  },
  {
   "attachments": {},
   "cell_type": "markdown",
   "metadata": {},
   "source": [
    "- sample query to see if the documents are inserted"
   ]
  },
  {
   "cell_type": "code",
   "execution_count": 98,
   "metadata": {},
   "outputs": [
    {
     "name": "stdout",
     "output_type": "stream",
     "text": [
      "{'_id': ObjectId('651dfec893c1775b70ba0a5e'), 'user_id': 4, 'date': '10-13-2017', 'file_type': 'image', 'file': 'in branch isnt protect'}\n",
      "{'_id': ObjectId('651dfec993c1775b70ba0a5f'), 'user_id': 14, 'date': '10-11-2017', 'file_type': 'video', 'file': 'ranch isnt protected.Protect this branch from force pushing or deletion, or require status checks before merging. Learn more.  No description, website, or topics provided. Activity Stars st'}\n",
      "{'_id': ObjectId('651dfec993c1775b70ba0a60'), 'user_id': 3, 'date': '10-11-2017', 'file_type': 'image', 'file': 'ranch isnt protected.Protect this branch from force pushing or deletion, or require status checks '}\n",
      "{'_id': ObjectId('651dfec993c1775b70ba0a61'), 'user_id': 14, 'date': '10-12-2017', 'file_type': 'video', 'file': 'ain branch isnt protected.Protect this branch from force pushing or deletion, or require status checks before merging. Learn more.  No descripti'}\n",
      "{'_id': ObjectId('651dfec993c1775b70ba0a62'), 'user_id': 10, 'date': '10-09-2017', 'file_type': 'image', 'file': ' Your main branch isnt protected.Protect this branch from force pushing or deletion, or require status checks before merging. Learn more.  No description, website, or'}\n",
      "{'_id': ObjectId('651dfec993c1775b70ba0a63'), 'user_id': 12, 'date': '10-10-2017', 'file_type': 'text', 'file': ' Your main branch isnt protected.Protect this branch from force pushing or deletion, or require status checks before merging. Learn mor'}\n",
      "{'_id': ObjectId('651dfec993c1775b70ba0a64'), 'user_id': 14, 'date': '10-11-2017', 'file_type': 'video', 'file': 'ain branch isnt protected.Protect this branch from force pushing or deletion, or '}\n",
      "{'_id': ObjectId('651dfec993c1775b70ba0a65'), 'user_id': 21, 'date': '10-10-2017', 'file_type': 'text', 'file': ''}\n",
      "{'_id': ObjectId('651dfec993c1775b70ba0a66'), 'user_id': 17, 'date': '10-09-2017', 'file_type': 'image', 'file': 'n branch isnt protect'}\n",
      "{'_id': ObjectId('651dfec993c1775b70ba0a67'), 'user_id': 16, 'date': '10-11-2017', 'file_type': 'video', 'file': 'main branch isnt protected.Protect this branch from force pushing or de'}\n",
      "{'_id': ObjectId('651dfec993c1775b70ba0a68'), 'user_id': 18, 'date': '10-11-2017', 'file_type': 'video', 'file': 'ranch isnt protected.Protect this branch from force pushing or deletion, or require status checks before merging. Learn more.  No descript'}\n",
      "{'_id': ObjectId('651dfec993c1775b70ba0a69'), 'user_id': 15, 'date': '10-10-2017', 'file_type': 'video', 'file': 'ranch isnt protected.Protect this branch from force pushing or deletion, or require status che'}\n",
      "{'_id': ObjectId('651dfec993c1775b70ba0a6a'), 'user_id': 11, 'date': '10-13-2017', 'file_type': 'video', 'file': 'branch isnt'}\n",
      "{'_id': ObjectId('651dfec993c1775b70ba0a6b'), 'user_id': 21, 'date': '10-13-2017', 'file_type': 'image', 'file': ' main branch isnt protected.Protect this branch from force pushing or deletion, or require status checks before merging. Learn m'}\n",
      "{'_id': ObjectId('651dfec993c1775b70ba0a6c'), 'user_id': 11, 'date': '10-11-2017', 'file_type': 'video', 'file': ' Your main branch isnt protected.Protect this branch from force pushing or deletion, or require status checks before mer'}\n",
      "{'_id': ObjectId('651dfec993c1775b70ba0a6d'), 'user_id': 9, 'date': '10-13-2017', 'file_type': 'video', 'file': 'ranch isnt protected.Protect this branch from force pushing or deletion, or require status checks before merging. Learn more.  No description, website, o'}\n",
      "{'_id': ObjectId('651dfec993c1775b70ba0a6e'), 'user_id': 5, 'date': '10-13-2017', 'file_type': 'image', 'file': ' Your main branch isnt protected.Protect this branch from force pushing or deletion, or require status checks before merging. Learn more.  No description, website, or topics provided. Activity Star'}\n",
      "{'_id': ObjectId('651dfec993c1775b70ba0a6f'), 'user_id': 17, 'date': '10-13-2017', 'file_type': 'image', 'file': 'ranch isnt protected.Protect this branch from force pushing or deletion, or require status checks before merging. Learn'}\n",
      "{'_id': ObjectId('651dfec993c1775b70ba0a70'), 'user_id': 18, 'date': '10-12-2017', 'file_type': 'text', 'file': 'in branch isnt protected.Protect this branch from force pushing or deletion, or require status checks before merging. Learn more.  No description, website, or t'}\n",
      "{'_id': ObjectId('651dfec993c1775b70ba0a71'), 'user_id': 12, 'date': '10-13-2017', 'file_type': 'image', 'file': 'main branch isnt protected.Protect this branch from force pushing or deletion, or require status checks'}\n"
     ]
    }
   ],
   "source": [
    "results = collection.find({})\n",
    "for result in results:\n",
    "    print(result)"
   ]
  },
  {
   "cell_type": "code",
   "execution_count": 99,
   "metadata": {},
   "outputs": [],
   "source": [
    "#collection.drop()"
   ]
  },
  {
   "attachments": {},
   "cell_type": "markdown",
   "metadata": {},
   "source": [
    "## Programming Examples"
   ]
  },
  {
   "attachments": {},
   "cell_type": "markdown",
   "metadata": {},
   "source": [
    "- To add records to the collection with a default value of empty dictionary for the file if any file is not uploaded"
   ]
  },
  {
   "cell_type": "code",
   "execution_count": 100,
   "metadata": {},
   "outputs": [],
   "source": [
    "def add_records(x,y,z,p={}): # function defination\n",
    "    add_one ={\n",
    "        'user_id':x,'date':y,'file_type':z,'file':p\n",
    "    }\n",
    "    collection.insert_one(add_one) # inserting the dict from above into collection"
   ]
  },
  {
   "attachments": {},
   "cell_type": "markdown",
   "metadata": {},
   "source": [
    "- function demonstration"
   ]
  },
  {
   "cell_type": "code",
   "execution_count": 101,
   "metadata": {},
   "outputs": [],
   "source": [
    "add_records(52,'22-10-2017','image',var[:32])"
   ]
  },
  {
   "cell_type": "code",
   "execution_count": 102,
   "metadata": {},
   "outputs": [
    {
     "name": "stdout",
     "output_type": "stream",
     "text": [
      " Your main branch isnt protected\n"
     ]
    }
   ],
   "source": [
    "result = collection.find({'user_id':52})\n",
    "for x in result:\n",
    "    print(x['file'])"
   ]
  },
  {
   "attachments": {},
   "cell_type": "markdown",
   "metadata": {},
   "source": [
    "- To search for a record based on used id"
   ]
  },
  {
   "cell_type": "code",
   "execution_count": 103,
   "metadata": {},
   "outputs": [],
   "source": [
    "def search_record(p): # function defination\n",
    "    result = collection.find({'user_id':p})\n",
    "    for x in result:\n",
    "        print(x)"
   ]
  },
  {
   "attachments": {},
   "cell_type": "markdown",
   "metadata": {},
   "source": [
    "- function demonstration"
   ]
  },
  {
   "cell_type": "code",
   "execution_count": 104,
   "metadata": {},
   "outputs": [
    {
     "name": "stdout",
     "output_type": "stream",
     "text": [
      "{'_id': ObjectId('651dfec993c1775b70ba0a63'), 'user_id': 12, 'date': '10-10-2017', 'file_type': 'text', 'file': ' Your main branch isnt protected.Protect this branch from force pushing or deletion, or require status checks before merging. Learn mor'}\n",
      "{'_id': ObjectId('651dfec993c1775b70ba0a71'), 'user_id': 12, 'date': '10-13-2017', 'file_type': 'image', 'file': 'main branch isnt protected.Protect this branch from force pushing or deletion, or require status checks'}\n"
     ]
    }
   ],
   "source": [
    "search_record(12)"
   ]
  },
  {
   "attachments": {},
   "cell_type": "markdown",
   "metadata": {},
   "source": [
    "- Return attachment based on user_id "
   ]
  },
  {
   "cell_type": "code",
   "execution_count": 105,
   "metadata": {},
   "outputs": [],
   "source": [
    "def return_attachment(y): # function defination\n",
    "    result = collection.find({'date':y})\n",
    "    for x in result:\n",
    "        print('user_id:',x['user_id'],'\\n','file:',x['file'],'\\n')"
   ]
  },
  {
   "attachments": {},
   "cell_type": "markdown",
   "metadata": {},
   "source": [
    "- function demonstration"
   ]
  },
  {
   "cell_type": "code",
   "execution_count": 106,
   "metadata": {},
   "outputs": [
    {
     "name": "stdout",
     "output_type": "stream",
     "text": [
      "user_id: 10 \n",
      " file:  Your main branch isnt protected.Protect this branch from force pushing or deletion, or require status checks before merging. Learn more.  No description, website, or \n",
      "\n",
      "user_id: 17 \n",
      " file: n branch isnt protect \n",
      "\n"
     ]
    }
   ],
   "source": [
    "return_attachment('10-09-2017')"
   ]
  },
  {
   "attachments": {},
   "cell_type": "markdown",
   "metadata": {},
   "source": [
    "- Deleting a record based on id"
   ]
  },
  {
   "cell_type": "code",
   "execution_count": 107,
   "metadata": {},
   "outputs": [
    {
     "name": "stdout",
     "output_type": "stream",
     "text": [
      "{'_id': ObjectId('651dfec993c1775b70ba0a6e'), 'user_id': 5, 'date': '10-13-2017', 'file_type': 'image', 'file': ' Your main branch isnt protected.Protect this branch from force pushing or deletion, or require status checks before merging. Learn more.  No description, website, or topics provided. Activity Star'}\n"
     ]
    }
   ],
   "source": [
    "search_record(5) # search for a user_id "
   ]
  },
  {
   "cell_type": "code",
   "execution_count": 108,
   "metadata": {},
   "outputs": [],
   "source": [
    "def drop_records(x): # function defination\n",
    "    drop_one ={\n",
    "        'user_id':x\n",
    "    }\n",
    "    collection.delete_one(drop_one)"
   ]
  },
  {
   "attachments": {},
   "cell_type": "markdown",
   "metadata": {},
   "source": [
    "- function demonstration"
   ]
  },
  {
   "cell_type": "code",
   "execution_count": 109,
   "metadata": {},
   "outputs": [],
   "source": [
    "drop_records(5)"
   ]
  },
  {
   "cell_type": "code",
   "execution_count": 110,
   "metadata": {},
   "outputs": [],
   "source": [
    "search_record(5)"
   ]
  },
  {
   "attachments": {},
   "cell_type": "markdown",
   "metadata": {},
   "source": [
    "- Deleting a file for a record"
   ]
  },
  {
   "cell_type": "code",
   "execution_count": 111,
   "metadata": {},
   "outputs": [],
   "source": [
    "def delete_file(x):\n",
    "    collection.update_one({\"user_id\":x},{ '$set': { 'file': {}}})"
   ]
  },
  {
   "attachments": {},
   "cell_type": "markdown",
   "metadata": {},
   "source": [
    "- function demonstration"
   ]
  },
  {
   "cell_type": "code",
   "execution_count": 112,
   "metadata": {},
   "outputs": [],
   "source": [
    "delete_file(12)"
   ]
  },
  {
   "cell_type": "code",
   "execution_count": 113,
   "metadata": {},
   "outputs": [
    {
     "name": "stdout",
     "output_type": "stream",
     "text": [
      "{'_id': ObjectId('651dfec993c1775b70ba0a63'), 'user_id': 12, 'date': '10-10-2017', 'file_type': 'text', 'file': {}}\n",
      "{'_id': ObjectId('651dfec993c1775b70ba0a71'), 'user_id': 12, 'date': '10-13-2017', 'file_type': 'image', 'file': 'main branch isnt protected.Protect this branch from force pushing or deletion, or require status checks'}\n"
     ]
    }
   ],
   "source": [
    "search_record(12)"
   ]
  },
  {
   "attachments": {},
   "cell_type": "markdown",
   "metadata": {},
   "source": [
    "- store file for a record"
   ]
  },
  {
   "cell_type": "code",
   "execution_count": 114,
   "metadata": {},
   "outputs": [],
   "source": [
    "def store_file(x): # function defination\n",
    "    collection.update_one({\"user_id\":x},{ '$set': { 'file': var[:45]}})"
   ]
  },
  {
   "attachments": {},
   "cell_type": "markdown",
   "metadata": {},
   "source": [
    "- function demonstration"
   ]
  },
  {
   "cell_type": "code",
   "execution_count": 115,
   "metadata": {},
   "outputs": [],
   "source": [
    "store_file(15)"
   ]
  },
  {
   "cell_type": "code",
   "execution_count": 116,
   "metadata": {},
   "outputs": [
    {
     "name": "stdout",
     "output_type": "stream",
     "text": [
      "{'_id': ObjectId('651dfec993c1775b70ba0a69'), 'user_id': 15, 'date': '10-10-2017', 'file_type': 'video', 'file': ' Your main branch isnt protected.Protect this'}\n"
     ]
    }
   ],
   "source": [
    "search_record(15)"
   ]
  },
  {
   "attachments": {},
   "cell_type": "markdown",
   "metadata": {},
   "source": [
    "## Discussion :\n",
    "- used mongo DB to create a Database for the update of chat systems and added a new field called file where it is being stored as a text object for different file types.\n",
    "- The other fields are user_id, date, file_type."
   ]
  }
 ],
 "metadata": {
  "kernelspec": {
   "display_name": "DEV01",
   "language": "python",
   "name": "python3"
  },
  "language_info": {
   "codemirror_mode": {
    "name": "ipython",
    "version": 3
   },
   "file_extension": ".py",
   "mimetype": "text/x-python",
   "name": "python",
   "nbconvert_exporter": "python",
   "pygments_lexer": "ipython3",
   "version": "3.11.5"
  },
  "orig_nbformat": 4
 },
 "nbformat": 4,
 "nbformat_minor": 2
}
