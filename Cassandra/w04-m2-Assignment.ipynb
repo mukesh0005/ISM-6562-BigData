{
 "cells": [
  {
   "cell_type": "markdown",
   "metadata": {},
   "source": [
    "# W04 Cassandra Python Tutorial"
   ]
  },
  {
   "attachments": {},
   "cell_type": "markdown",
   "metadata": {},
   "source": [
    "### Import packages"
   ]
  },
  {
   "cell_type": "code",
   "execution_count": 1,
   "metadata": {},
   "outputs": [],
   "source": [
    "import pandas as pd\n",
    "from cassandra.cluster import Cluster"
   ]
  },
  {
   "attachments": {},
   "cell_type": "markdown",
   "metadata": {},
   "source": [
    "### Create a session connection to Cassandra cluster"
   ]
  },
  {
   "cell_type": "code",
   "execution_count": 2,
   "metadata": {},
   "outputs": [],
   "source": [
    "clstr = Cluster()\n",
    "session = clstr.connect()"
   ]
  },
  {
   "attachments": {},
   "cell_type": "markdown",
   "metadata": {},
   "source": [
    "### Use session to 'talk' to cassandra"
   ]
  },
  {
   "cell_type": "code",
   "execution_count": 3,
   "metadata": {},
   "outputs": [
    {
     "data": {
      "text/plain": [
       "<cassandra.cluster.ResultSet at 0x7f85994870d0>"
      ]
     },
     "execution_count": 3,
     "metadata": {},
     "output_type": "execute_result"
    }
   ],
   "source": [
    "session.execute(\"drop keyspace m14;\")"
   ]
  },
  {
   "cell_type": "code",
   "execution_count": 4,
   "metadata": {},
   "outputs": [
    {
     "name": "stdout",
     "output_type": "stream",
     "text": [
      "system\n",
      "system_auth\n",
      "system_distributed\n",
      "system_schema\n",
      "system_traces\n",
      "system_views\n",
      "system_virtual_schema\n"
     ]
    }
   ],
   "source": [
    "rows = session.execute(\"desc keyspaces\")\n",
    "for row in rows:\n",
    "    print(f\"{row[0]}\")"
   ]
  },
  {
   "cell_type": "code",
   "execution_count": 5,
   "metadata": {},
   "outputs": [
    {
     "data": {
      "text/plain": [
       "<cassandra.cluster.ResultSet at 0x7f855e00fe10>"
      ]
     },
     "execution_count": 5,
     "metadata": {},
     "output_type": "execute_result"
    }
   ],
   "source": [
    "session.execute(\"CREATE KEYSPACE IF NOT EXISTS m14 WITH REPLICATION = {'class':'SimpleStrategy', 'replication_factor':2}\")"
   ]
  },
  {
   "cell_type": "code",
   "execution_count": 6,
   "metadata": {},
   "outputs": [
    {
     "name": "stdout",
     "output_type": "stream",
     "text": [
      "m14\n",
      "system\n",
      "system_auth\n",
      "system_distributed\n",
      "system_schema\n",
      "system_traces\n",
      "system_views\n",
      "system_virtual_schema\n"
     ]
    }
   ],
   "source": [
    "rows = session.execute(\"desc keyspaces\")\n",
    "for row in rows:\n",
    "    print(f\"{row[0]}\")"
   ]
  },
  {
   "attachments": {},
   "cell_type": "markdown",
   "metadata": {},
   "source": [
    "Create a inventory table for testing"
   ]
  },
  {
   "cell_type": "code",
   "execution_count": 7,
   "metadata": {},
   "outputs": [
    {
     "data": {
      "text/plain": [
       "<cassandra.cluster.ResultSet at 0x7f855e0166d0>"
      ]
     },
     "execution_count": 7,
     "metadata": {},
     "output_type": "execute_result"
    }
   ],
   "source": [
    "session.execute(\"\"\"\n",
    "CREATE TABLE IF NOT EXISTS m14.inventory ( \n",
    "    sku INT, \n",
    "    name TEXT, \n",
    "    description TEXT, \n",
    "    warehouse_num int, \n",
    "    PRIMARY KEY(sku)\n",
    ");\n",
    "\"\"\")"
   ]
  },
  {
   "attachments": {},
   "cell_type": "markdown",
   "metadata": {},
   "source": [
    "### Load data"
   ]
  },
  {
   "cell_type": "code",
   "execution_count": 8,
   "metadata": {},
   "outputs": [
    {
     "data": {
      "text/html": [
       "<div>\n",
       "<style scoped>\n",
       "    .dataframe tbody tr th:only-of-type {\n",
       "        vertical-align: middle;\n",
       "    }\n",
       "\n",
       "    .dataframe tbody tr th {\n",
       "        vertical-align: top;\n",
       "    }\n",
       "\n",
       "    .dataframe thead th {\n",
       "        text-align: right;\n",
       "    }\n",
       "</style>\n",
       "<table border=\"1\" class=\"dataframe\">\n",
       "  <thead>\n",
       "    <tr style=\"text-align: right;\">\n",
       "      <th></th>\n",
       "      <th>sku</th>\n",
       "      <th>name</th>\n",
       "      <th>description</th>\n",
       "      <th>warehouse_num</th>\n",
       "    </tr>\n",
       "  </thead>\n",
       "  <tbody>\n",
       "    <tr>\n",
       "      <th>0</th>\n",
       "      <td>1000</td>\n",
       "      <td>'Biscuit'</td>\n",
       "      <td>'parle-g'</td>\n",
       "      <td>95</td>\n",
       "    </tr>\n",
       "    <tr>\n",
       "      <th>1</th>\n",
       "      <td>1001</td>\n",
       "      <td>'Chocolate'</td>\n",
       "      <td>'nestle'</td>\n",
       "      <td>97</td>\n",
       "    </tr>\n",
       "    <tr>\n",
       "      <th>2</th>\n",
       "      <td>1002</td>\n",
       "      <td>'Bread'</td>\n",
       "      <td>'nature own'</td>\n",
       "      <td>87</td>\n",
       "    </tr>\n",
       "    <tr>\n",
       "      <th>3</th>\n",
       "      <td>1003</td>\n",
       "      <td>'milk'</td>\n",
       "      <td>'visaka'</td>\n",
       "      <td>92</td>\n",
       "    </tr>\n",
       "    <tr>\n",
       "      <th>4</th>\n",
       "      <td>1004</td>\n",
       "      <td>'eggs'</td>\n",
       "      <td>'heritage'</td>\n",
       "      <td>65</td>\n",
       "    </tr>\n",
       "    <tr>\n",
       "      <th>5</th>\n",
       "      <td>1005</td>\n",
       "      <td>'coffee'</td>\n",
       "      <td>'Nescafe'</td>\n",
       "      <td>92</td>\n",
       "    </tr>\n",
       "    <tr>\n",
       "      <th>6</th>\n",
       "      <td>1006</td>\n",
       "      <td>'Sugar'</td>\n",
       "      <td>'tata'</td>\n",
       "      <td>87</td>\n",
       "    </tr>\n",
       "  </tbody>\n",
       "</table>\n",
       "</div>"
      ],
      "text/plain": [
       "    sku         name   description  warehouse_num\n",
       "0  1000    'Biscuit'     'parle-g'             95\n",
       "1  1001  'Chocolate'      'nestle'             97\n",
       "2  1002      'Bread'  'nature own'             87\n",
       "3  1003       'milk'      'visaka'             92\n",
       "4  1004       'eggs'    'heritage'             65\n",
       "5  1005     'coffee'     'Nescafe'             92\n",
       "6  1006      'Sugar'        'tata'             87"
      ]
     },
     "execution_count": 8,
     "metadata": {},
     "output_type": "execute_result"
    }
   ],
   "source": [
    "df = pd.read_csv('../W04/m14.csv')\n",
    "df"
   ]
  },
  {
   "cell_type": "code",
   "execution_count": 9,
   "metadata": {},
   "outputs": [
    {
     "name": "stdout",
     "output_type": "stream",
     "text": [
      "sku = 1000, name =0, description = 'parle-g', warehouse_num = 95\n",
      "sku = 1001, name =1, description = 'nestle', warehouse_num = 97\n",
      "sku = 1002, name =2, description = 'nature own', warehouse_num = 87\n",
      "sku = 1003, name =3, description = 'visaka', warehouse_num = 92\n",
      "sku = 1004, name =4, description = 'heritage', warehouse_num = 65\n",
      "sku = 1005, name =5, description = 'Nescafe', warehouse_num = 92\n",
      "sku = 1006, name =6, description = 'tata', warehouse_num = 87\n"
     ]
    }
   ],
   "source": [
    "for index, row in df.iterrows():\n",
    "    print(f\"sku = {row.sku}, name ={row.name}, description = {row.description}, warehouse_num = {row.warehouse_num}\")"
   ]
  },
  {
   "cell_type": "code",
   "execution_count": 10,
   "metadata": {},
   "outputs": [
    {
     "name": "stdout",
     "output_type": "stream",
     "text": [
      "\n",
      "        INSERT INTO m14.inventory (sku,name,description,warehouse_num)     \n",
      "        VALUES (1000, 'Biscuit', 'parle-g', 95);\n",
      "        \n",
      "\n",
      "        INSERT INTO m14.inventory (sku,name,description,warehouse_num)     \n",
      "        VALUES (1001, 'Chocolate', 'nestle', 97);\n",
      "        \n",
      "\n",
      "        INSERT INTO m14.inventory (sku,name,description,warehouse_num)     \n",
      "        VALUES (1002, 'Bread', 'nature own', 87);\n",
      "        \n",
      "\n",
      "        INSERT INTO m14.inventory (sku,name,description,warehouse_num)     \n",
      "        VALUES (1003, 'milk', 'visaka', 92);\n",
      "        \n",
      "\n",
      "        INSERT INTO m14.inventory (sku,name,description,warehouse_num)     \n",
      "        VALUES (1004, 'eggs', 'heritage', 65);\n",
      "        \n",
      "\n",
      "        INSERT INTO m14.inventory (sku,name,description,warehouse_num)     \n",
      "        VALUES (1005, 'coffee', 'Nescafe', 92);\n",
      "        \n",
      "\n",
      "        INSERT INTO m14.inventory (sku,name,description,warehouse_num)     \n",
      "        VALUES (1006, 'Sugar', 'tata', 87);\n",
      "        \n"
     ]
    }
   ],
   "source": [
    "for index, row in df.iterrows():\n",
    "    print(f\"\"\"\n",
    "        INSERT INTO m14.inventory (sku,name,description,warehouse_num)     \n",
    "        VALUES ({row[0]}, {row[1]}, {row[2]}, {row[3]});\n",
    "        \"\"\"\n",
    "       )\n",
    "    session.execute(f\"\"\"\n",
    "        INSERT INTO m14.inventory (sku,name,description,warehouse_num)     \n",
    "        VALUES ({row[0]}, {row[1]}, {row[2]}, {row[3]});\n",
    "        \"\"\"\n",
    "       )"
   ]
  },
  {
   "cell_type": "code",
   "execution_count": 11,
   "metadata": {},
   "outputs": [
    {
     "data": {
      "text/plain": [
       "<cassandra.cluster.ResultSet at 0x7f855eb3f850>"
      ]
     },
     "execution_count": 11,
     "metadata": {},
     "output_type": "execute_result"
    }
   ],
   "source": [
    "session.execute(\"create index w_num on m14.inventory(warehouse_num);\")"
   ]
  },
  {
   "cell_type": "code",
   "execution_count": 13,
   "metadata": {},
   "outputs": [
    {
     "name": "stdout",
     "output_type": "stream",
     "text": [
      "sku=1006, name=Sugar, description=tata, warehouse_num=87\n",
      "sku=1004, name=eggs, description=heritage, warehouse_num=65\n",
      "sku=1005, name=coffee, description=Nescafe, warehouse_num=92\n",
      "sku=1001, name=Chocolate, description=nestle, warehouse_num=97\n",
      "sku=1003, name=milk, description=visaka, warehouse_num=92\n",
      "sku=1002, name=Bread, description=nature own, warehouse_num=87\n",
      "sku=1000, name=Biscuit, description=parle-g, warehouse_num=95\n"
     ]
    }
   ],
   "source": [
    "rows = session.execute(\"select (sku,name,description,warehouse_num) from m14.inventory\")\n",
    "for row in rows:\n",
    "    print(f\"sku={row[0][0]}, name={row[0][1]}, description={row[0][2]}, warehouse_num={row[0][3]}\")"
   ]
  },
  {
   "cell_type": "code",
   "execution_count": 12,
   "metadata": {},
   "outputs": [
    {
     "name": "stdout",
     "output_type": "stream",
     "text": [
      "1005, coffee, Nescafe\n",
      "1003, milk, visaka\n"
     ]
    }
   ],
   "source": [
    "rows = session.execute(\"select sku,name,description from m14.inventory where warehouse_num = 92 ALLOW FILTERING;\")\n",
    "for row in rows:\n",
    "    print(f\"{row[0]}, {row[1]}, {row[2]}\")"
   ]
  }
 ],
 "metadata": {
  "kernelspec": {
   "display_name": "base",
   "language": "python",
   "name": "python3"
  },
  "language_info": {
   "codemirror_mode": {
    "name": "ipython",
    "version": 3
   },
   "file_extension": ".py",
   "mimetype": "text/x-python",
   "name": "python",
   "nbconvert_exporter": "python",
   "pygments_lexer": "ipython3",
   "version": "3.11.5"
  },
  "orig_nbformat": 4,
  "vscode": {
   "interpreter": {
    "hash": "c774f5f42cb3e70515ef7cb909d9051370cc09a28b296d74902002ebc2249cb4"
   }
  }
 },
 "nbformat": 4,
 "nbformat_minor": 2
}
